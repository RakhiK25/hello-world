{
  "nbformat": 4,
  "nbformat_minor": 0,
  "metadata": {
    "colab": {
      "provenance": [],
      "authorship_tag": "ABX9TyPFYiGO0DVUogttF0Jrdjea",
      "include_colab_link": true
    },
    "kernelspec": {
      "name": "python3",
      "display_name": "Python 3"
    },
    "language_info": {
      "name": "python"
    }
  },
  "cells": [
    {
      "cell_type": "markdown",
      "metadata": {
        "id": "view-in-github",
        "colab_type": "text"
      },
      "source": [
        "<a href=\"https://colab.research.google.com/github/RakhiK25/hello-world/blob/main/pvb.ipynb\" target=\"_parent\"><img src=\"https://colab.research.google.com/assets/colab-badge.svg\" alt=\"Open In Colab\"/></a>"
      ]
    },
    {
      "cell_type": "code",
      "execution_count": 4,
      "metadata": {
        "colab": {
          "base_uri": "https://localhost:8080/",
          "height": 451
        },
        "id": "tAIR0_dNBc6M",
        "outputId": "ced26bd3-6fd0-4517-b5f4-6e3f78e44364"
      },
      "outputs": [
        {
          "output_type": "stream",
          "name": "stdout",
          "text": [
            "Initial Weight -->  [0. 0.]\n",
            "Initial Thresold --> 0.5552862607852886\n",
            "Final Weight -> [0. 0.]\n",
            "Final Thresold -> 0.45528626078528867\n",
            "For training data(prediction) ---> \n",
            "0\n",
            "0\n",
            "0\n",
            "0\n"
          ]
        },
        {
          "output_type": "display_data",
          "data": {
            "text/plain": [
              "<Figure size 432x288 with 1 Axes>"
            ],
            "image/png": "[encoded data removed]"
          },
          "metadata": {
            "needs_background": "light"
          }
        }
      ],
      "source": [
        "#Loading required package\n",
        "import numpy as np\n",
        "import matplotlib.pyplot as plt\n",
        "#using above equation to create single unit of perceptron.\n",
        "def perceptron(x,w,threshold):\n",
        " sum = 0 \n",
        " for xi,wi in zip(x,w): #x1w1+x2w2+x3w3+.....+xnwn\n",
        "  sum += xi*wi\n",
        "  if sum>= threshold: # wx - theta >=0 \n",
        "   return 1\n",
        "  else:\n",
        "    return 0\n",
        "#Delta Learning Algorithm using above two equations\n",
        "def deltaLearningAlgorithm(x_train,y_train,alpha=1e-2,max_epoch=100):\n",
        " w = np.zeros(x_train.shape[1])\n",
        " theta = np.random.random()\n",
        " #theat = 0\n",
        " print(\"Initial Weight --> \",w)\n",
        " print(\"Initial Thresold -->\",theta)\n",
        " \n",
        " for c in range(max_epoch):\n",
        "  for i in range(x_train.shape[0]):\n",
        "   y_predicted = perceptron(x_train[i],w,threshold=theta)\n",
        "   error = y_train[i] - y_predicted\n",
        "   if y_train[i]==y_predicted:\n",
        "    error= 0\n",
        "   elif y_train[i] < y_predicted:\n",
        "     error= -1\n",
        "   else:\n",
        "      error= +1\n",
        " \n",
        " \n",
        " dw = alpha*x_train[i]*error\n",
        " dtheta = alpha*1*error\n",
        " w = w +dw #updating weight\n",
        " theta = theta - dtheta #updating thresold i.e, theta\n",
        " \n",
        " \n",
        " \n",
        " return w,theta\n",
        "def accuracy(x_test,y_test,w,thresold):\n",
        " count =0\n",
        " m,n = x_test.shape\n",
        " for i in range(m):\n",
        "  predict = perceptron(x_test[i],w,thresold)\n",
        "  if predict==y_test[i]:\n",
        "   count +=1\n",
        " \n",
        " return (count*100)/m\n",
        "#Training dataset\n",
        "x = np.array([[1,1],\n",
        " [1,0],\n",
        " [0,1],\n",
        "[0,0]])\n",
        "y_and = np.array([1,1,1,0])\n",
        "y_or = np.array([1,0,0,0])\n",
        "y_nand = np.array([0,0,0,1])\n",
        "y_nor = np.array([0,1,1,1])\n",
        "w_final,theta_final = deltaLearningAlgorithm(x,y_nor,alpha=1e-1,max_epoch=100)\n",
        "print(\"Final Weight ->\",w_final)\n",
        "print(\"Final Thresold ->\",theta_final)\n",
        "print(\"For training data(prediction) --->\",end=\" \\n\")\n",
        "for i in range(4):\n",
        " print(perceptron(x[i],w_final,threshold=theta_final))\n",
        "p = np.linspace(-2,2,200)\n",
        "px,py=[],[]\n",
        "nx,ny=[],[]\n",
        "for i in p:\n",
        " for j in p:\n",
        "  if perceptron(np.array([i,j]),w_final,theta_final)>=1:\n",
        "   px.append(i)\n",
        "   py.append(j)\n",
        "  else:\n",
        "   nx.append(i)\n",
        "   ny.append(j)\n",
        "plt.scatter(px,py)\n",
        "plt.scatter(nx,ny)\n",
        "plt.xlabel(\"x1\")\n",
        "plt.ylabel(\"x2\")\n",
        "plt.title(\"Plot for AND(2-INPUT) gate\")\n",
        "plt.scatter(x[:,0],x[:,1])\n",
        "plt.show()"
      ]
    }
  ]
}