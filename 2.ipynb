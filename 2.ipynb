{
  "nbformat": 4,
  "nbformat_minor": 0,
  "metadata": {
    "colab": {
      "provenance": [],
      "authorship_tag": "ABX9TyOzT2VYgGFcbeVSUN3B/oIi",
      "include_colab_link": true
    },
    "kernelspec": {
      "name": "python3",
      "display_name": "Python 3"
    },
    "language_info": {
      "name": "python"
    }
  },
  "cells": [
    {
      "cell_type": "markdown",
      "metadata": {
        "id": "view-in-github",
        "colab_type": "text"
      },
      "source": [
        "<a href=\"https://colab.research.google.com/github/RakhiK25/hello-world/blob/main/2.ipynb\" target=\"_parent\"><img src=\"https://colab.research.google.com/assets/colab-badge.svg\" alt=\"Open In Colab\"/></a>"
      ]
    },
    {
      "cell_type": "code",
      "execution_count": 8,
      "metadata": {
        "colab": {
          "base_uri": "https://localhost:8080/"
        },
        "id": "UJ-V4fLIGhdS",
        "outputId": "1b963f21-cec0-4f6b-8d20-c3a42a4d06a7"
      },
      "outputs": [
        {
          "output_type": "stream",
          "name": "stdout",
          "text": [
            "confusion matrix\n",
            "[[4 4]\n",
            " [2 2]]\n"
          ]
        }
      ],
      "source": [
        "from sklearn.metrics import confusion_matrix\n",
        "from sklearn.metrics import classification_report\n",
        "\n",
        "a=[0,0,0,0,1,1,0,1,0,1,0,0]\n",
        "b=[1,0,1,1,0,1,0,1,0,0,0,1]\n",
        "matrix=confusion_matrix(a,b)\n",
        "cl_report=classification_report(a,b)\n",
        "print(\"confusion matrix\")\n",
        "print(matrix)"
      ]
    },
    {
      "cell_type": "code",
      "source": [
        "print(cl_report)"
      ],
      "metadata": {
        "colab": {
          "base_uri": "https://localhost:8080/"
        },
        "id": "sNv5TqG1HqB9",
        "outputId": "22ec0562-0195-4a02-ae4c-89d8d792fa6b"
      },
      "execution_count": 9,
      "outputs": [
        {
          "output_type": "stream",
          "name": "stdout",
          "text": [
            "              precision    recall  f1-score   support\n",
            "\n",
            "           0       0.67      0.50      0.57         8\n",
            "           1       0.33      0.50      0.40         4\n",
            "\n",
            "    accuracy                           0.50        12\n",
            "   macro avg       0.50      0.50      0.49        12\n",
            "weighted avg       0.56      0.50      0.51        12\n",
            "\n"
          ]
        }
      ]
    }
  ]
}