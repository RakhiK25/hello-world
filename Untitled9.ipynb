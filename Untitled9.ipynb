{
  "nbformat": 4,
  "nbformat_minor": 0,
  "metadata": {
    "colab": {
      "provenance": [],
      "authorship_tag": "ABX9TyMTqWO7w4zhieoVSlqoCq1L",
      "include_colab_link": true
    },
    "kernelspec": {
      "name": "python3",
      "display_name": "Python 3"
    },
    "language_info": {
      "name": "python"
    }
  },
  "cells": [
    {
      "cell_type": "markdown",
      "metadata": {
        "id": "view-in-github",
        "colab_type": "text"
      },
      "source": [
        "<a href=\"https://colab.research.google.com/github/RakhiK25/hello-world/blob/main/Untitled9.ipynb\" target=\"_parent\"><img src=\"https://colab.research.google.com/assets/colab-badge.svg\" alt=\"Open In Colab\"/></a>"
      ]
    },
    {
      "cell_type": "code",
      "execution_count": 18,
      "metadata": {
        "colab": {
          "base_uri": "https://localhost:8080/"
        },
        "id": "Bmxznb1Ot9Lg",
        "outputId": "111e481c-9f0f-4672-d218-08b8d1b7a523"
      },
      "outputs": [
        {
          "output_type": "stream",
          "name": "stdout",
          "text": [
            "Name : Rakhi Ramesh Khade\n",
            "Roll No. : 116\n",
            "Enrollment No.: 19010252\n",
            "\n",
            "AND logic function for perceptron network\n",
            "for Binary Inputs and Outputs\n",
            "\n",
            "\n",
            " Input Bias Target\n",
            " x1 x2 b t\n",
            " 1 1 1 0\n",
            " 1 0 1 1\n",
            " 0 1 1 1\n",
            " 0 0 1 0\n",
            "\n",
            "\n",
            "Initialize w1=0, w2=0, b=0\n",
            "\n",
            "For input number  1 : [x1, x2, b] = [ 1 , 1 ,  1 ]\n",
            "Target =  0\n",
            "New weights are [w1, w2, b] = [ 0 ,  0 ,  0 ]\n",
            "\n",
            "For input number  2 : [x1, x2, b] = [ 1 , 0 ,  1 ]\n",
            "Target =  1\n",
            "New weights are [w1, w2, b] = [ 1 ,  0 ,  1 ]\n",
            "\n",
            "For input number  3 : [x1, x2, b] = [ 0 , 1 ,  1 ]\n",
            "Target =  1\n",
            "New weights are [w1, w2, b] = [ 1 ,  1 ,  2 ]\n",
            "\n",
            "For input number  4 : [x1, x2, b] = [ 0 , 0 ,  1 ]\n",
            "Target =  0\n",
            "New weights are [w1, w2, b] = [ 1 ,  1 ,  2 ]\n",
            "\n",
            "\n",
            "\n",
            "--------------------Perceptron network for AND-------------------------\n",
            " Input Bias Target Change New Weights\n",
            " x1 x2 b t dw1 dw2 db w1 w2 b\n",
            " (0 0 0)\n",
            " 1 1 1 0  0   0   0  0   0   0\n",
            " 1 0 1 1  1   0   1  1   0   1\n",
            " 0 1 1 1  0   1   1  1   1   2\n",
            " 0 0 1 0  0   0   0  1   1   2\n",
            "\n",
            "\n"
          ]
        }
      ],
      "source": [
        "print(\"Name : Rakhi Ramesh Khade\")\n",
        "print(\"Roll No. : 116\")\n",
        "print(\"Enrollment No.: 19010252\")\n",
        "print(\"\\nAND logic function for perceptron network\")\n",
        "print(\"for Binary Inputs and Outputs\")\n",
        "x1 = [1, 1, 0, 0]\n",
        "x2 = [1, 0, 1, 0]\n",
        "target = [0, 1, 1, 0]\n",
        "bias=[1, 1, 1, 1]\n",
        "print(\"\\n\")\n",
        "print(\" Input Bias Target\")\n",
        "print(\" x1 x2 b t\")\n",
        "print(\" 1 1 1 0\")\n",
        "print(\" 1 0 1 1\")\n",
        "print(\" 0 1 1 1\")\n",
        "print(\" 0 0 1 0\")\n",
        "print(\"\\n\")\n",
        "print(\"Initialize w1=0, w2=0, b=0\\n\")\n",
        "w1=0\n",
        "w2=0\n",
        "b=0\n",
        "l1=[]\n",
        "l2=[]\n",
        "l3=[]\n",
        "chl1=[]\n",
        "chl2=[]\n",
        "chb=[]\n",
        "for i in range(4):\n",
        " print(\"For input number \",i+1,\": [x1, x2, b] = [\",x1[i],\",\",x2[i],\", \",bias[i],\"]\")\n",
        " print(\"Target = \", target[i])\n",
        " w1 = w1 + x1[i]*target[i]\n",
        " l1.append(w1)\n",
        " chl1.append(x1[i]*target[i])\n",
        " w2 = w2 + x2[i]*target[i]\n",
        " l2.append(w2)\n",
        " chl2.append(x2[i]*target[i])\n",
        " b = b + target[i]\n",
        " l3.append(b)\n",
        " chb.append(target[i])\n",
        " print(\"New weights are [w1, w2, b] = [\",w1,\", \",w2,\", \",b,\"]\\n\")\n",
        "print(\"\\n\\n--------------------Perceptron network for AND-------------------------\")\n",
        "print(\" Input Bias Target Change New Weights\")\n",
        "print(\" x1 x2 b t dw1 dw2 db w1 w2 b\")\n",
        "print(\" (0 0 0)\")\n",
        "print(\" 1 1 1 0 \",chl1[0],\" \",chl2[0],\" \",chb[0],\"\",l1[0],\" \",l2[0],\" \",l3[0])\n",
        "print(\" 1 0 1 1 \",chl1[1],\" \",chl2[1],\" \",chb[1],\"\",l1[1],\" \",l2[1],\" \",l3[1])\n",
        "print(\" 0 1 1 1 \",chl1[2],\" \",chl2[2],\" \",chb[2],\"\",l1[2],\" \",l2[2],\" \",l3[2])\n",
        "print(\" 0 0 1 0 \",chl1[3],\" \",chl2[3],\" \",chb[3],\"\",l1[3],\" \",l2[3],\" \",l3[3])\n",
        "print(\"\\n\")"
      ]
    }
  ]
}