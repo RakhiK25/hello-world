{
  "nbformat": 4,
  "nbformat_minor": 0,
  "metadata": {
    "colab": {
      "provenance": [],
      "authorship_tag": "ABX9TyMplLu0acJ94eig0xfFM3TB",
      "include_colab_link": true
    },
    "kernelspec": {
      "name": "python3",
      "display_name": "Python 3"
    },
    "language_info": {
      "name": "python"
    }
  },
  "cells": [
    {
      "cell_type": "markdown",
      "metadata": {
        "id": "view-in-github",
        "colab_type": "text"
      },
      "source": [
        "<a href=\"https://colab.research.google.com/github/RakhiK25/hello-world/blob/main/ml6.ipynb\" target=\"_parent\"><img src=\"https://colab.research.google.com/assets/colab-badge.svg\" alt=\"Open In Colab\"/></a>"
      ]
    },
    {
      "cell_type": "code",
      "execution_count": 2,
      "metadata": {
        "colab": {
          "base_uri": "https://localhost:8080/"
        },
        "id": "dmcNKvpxU0PF",
        "outputId": "0c025641-febe-4a4a-ded0-c28b146fde41"
      },
      "outputs": [
        {
          "output_type": "execute_result",
          "data": {
            "text/plain": [
              "array([[2.5, 2.4],\n",
              "       [0.5, 0.7],\n",
              "       [2.2, 2.9],\n",
              "       [1.9, 2.2],\n",
              "       [3.1, 3. ],\n",
              "       [2.3, 2.7],\n",
              "       [2. , 1.6],\n",
              "       [1.2, 1.1],\n",
              "       [1.5, 1.6],\n",
              "       [1.1, 0.9]])"
            ]
          },
          "metadata": {},
          "execution_count": 2
        }
      ],
      "source": [
        "# Roll no : 116 Rakhi Khade\n",
        "import numpy as np\n",
        "X = np.array([[2.5, 2.4], [0.5, 0.7], [2.2, 2.9], [1.9, 2.2], [3.1, 3], [2.3, 2.7], [2, 1.6], [1.2, 1.1], [1.5, 1.6], [1.1, 0.9]])\n",
        "X\n",
        "\n"
      ]
    },
    {
      "cell_type": "code",
      "source": [
        "X.shape"
      ],
      "metadata": {
        "colab": {
          "base_uri": "https://localhost:8080/"
        },
        "id": "c0y5nqSvWYwq",
        "outputId": "014f016d-500b-4fc9-b4c5-819dbd296998"
      },
      "execution_count": 3,
      "outputs": [
        {
          "output_type": "execute_result",
          "data": {
            "text/plain": [
              "(10, 2)"
            ]
          },
          "metadata": {},
          "execution_count": 3
        }
      ]
    },
    {
      "cell_type": "code",
      "source": [
        "import matplotlib.pyplot as plt\n",
        "plt.scatter(X[:,0], X[:,1])\n",
        "plt.xlabel(\"x1\")\n",
        "plt.ylabel(\"x2\")\n",
        "plt.show()"
      ],
      "metadata": {
        "colab": {
          "base_uri": "https://localhost:8080/",
          "height": 279
        },
        "id": "yzWQr3PcWeYk",
        "outputId": "d0b32126-3440-443c-af5e-38b4084b955a"
      },
      "execution_count": 4,
      "outputs": [
        {
          "output_type": "display_data",
          "data": {
            "text/plain": [
              "<Figure size 432x288 with 1 Axes>"
            ],
            "image/png": "[encoded data removed]"
          },
          "metadata": {
            "needs_background": "light"
          }
        }
      ]
    },
    {
      "cell_type": "code",
      "source": [
        "#Mean\n",
        "xbar = X.mean(axis=0)\n",
        "xbar"
      ],
      "metadata": {
        "colab": {
          "base_uri": "https://localhost:8080/"
        },
        "id": "9gVjvTlWYirp",
        "outputId": "d648eb77-e02a-4f37-a5d4-13c455d807fb"
      },
      "execution_count": 5,
      "outputs": [
        {
          "output_type": "execute_result",
          "data": {
            "text/plain": [
              "array([1.83, 1.91])"
            ]
          },
          "metadata": {},
          "execution_count": 5
        }
      ]
    },
    {
      "cell_type": "code",
      "source": [
        "sigma=np.std(X,axis=0,ddof=1) #ddof = degree of freedom\n",
        "sigma"
      ],
      "metadata": {
        "colab": {
          "base_uri": "https://localhost:8080/"
        },
        "id": "WpOoxRQkYyCc",
        "outputId": "29b01943-02d5-4fef-93af-8142c4d1e78d"
      },
      "execution_count": 6,
      "outputs": [
        {
          "output_type": "execute_result",
          "data": {
            "text/plain": [
              "array([0.76456233, 0.84649605])"
            ]
          },
          "metadata": {},
          "execution_count": 6
        }
      ]
    },
    {
      "cell_type": "code",
      "source": [
        "Z=(X-xbar)/sigma\n",
        "Z"
      ],
      "metadata": {
        "colab": {
          "base_uri": "https://localhost:8080/"
        },
        "id": "-MpqgoQIZJJU",
        "outputId": "76e82cc4-e703-4aa5-9e38-9b5f81781806"
      },
      "execution_count": 7,
      "outputs": [
        {
          "output_type": "execute_result",
          "data": {
            "text/plain": [
              "array([[ 0.87631835,  0.57885681],\n",
              "       [-1.73955732, -1.42942192],\n",
              "       [ 0.483937  ,  1.16952702],\n",
              "       [ 0.09155565,  0.34258872],\n",
              "       [ 1.66108105,  1.28766107],\n",
              "       [ 0.61473078,  0.93325894],\n",
              "       [ 0.22234943, -0.36621553],\n",
              "       [-0.82400084, -0.95688575],\n",
              "       [-0.43161949, -0.36621553],\n",
              "       [-0.95479462, -1.19315383]])"
            ]
          },
          "metadata": {},
          "execution_count": 7
        }
      ]
    },
    {
      "cell_type": "code",
      "source": [
        "plt.scatter(Z[:,0],Z[:,1])\n",
        "plt.show()"
      ],
      "metadata": {
        "colab": {
          "base_uri": "https://localhost:8080/",
          "height": 265
        },
        "id": "6mxjEJ-wZcka",
        "outputId": "455038d9-c6f7-4f02-c6e2-6c122d2f0d8d"
      },
      "execution_count": 8,
      "outputs": [
        {
          "output_type": "display_data",
          "data": {
            "text/plain": [
              "<Figure size 432x288 with 1 Axes>"
            ],
            "image/png": "[encoded data removed]"
          },
          "metadata": {
            "needs_background": "light"
          }
        }
      ]
    },
    {
      "cell_type": "code",
      "source": [
        "np.round(Z.mean(axis=0), 2)"
      ],
      "metadata": {
        "colab": {
          "base_uri": "https://localhost:8080/"
        },
        "id": "QPrhaNfKZ0B6",
        "outputId": "09e1a1d4-3254-4228-c0c7-fdddb8084e6c"
      },
      "execution_count": 9,
      "outputs": [
        {
          "output_type": "execute_result",
          "data": {
            "text/plain": [
              "array([-0.,  0.])"
            ]
          },
          "metadata": {},
          "execution_count": 9
        }
      ]
    },
    {
      "cell_type": "code",
      "source": [
        "Z.std(axis=0, ddof=1)"
      ],
      "metadata": {
        "colab": {
          "base_uri": "https://localhost:8080/"
        },
        "id": "28qrr-9YaBsD",
        "outputId": "d358e8ef-e0d5-46f7-b2d2-b2c31c038455"
      },
      "execution_count": 10,
      "outputs": [
        {
          "output_type": "execute_result",
          "data": {
            "text/plain": [
              "array([1., 1.])"
            ]
          },
          "metadata": {},
          "execution_count": 10
        }
      ]
    },
    {
      "cell_type": "code",
      "source": [
        "cov_mat = np.cov(X,rowvar = False)\n",
        "cov_mat"
      ],
      "metadata": {
        "colab": {
          "base_uri": "https://localhost:8080/"
        },
        "id": "4VlXEzijaQ2y",
        "outputId": "eec26f58-d24d-4219-e725-0d69a26f063c"
      },
      "execution_count": 11,
      "outputs": [
        {
          "output_type": "execute_result",
          "data": {
            "text/plain": [
              "array([[0.58455556, 0.59744444],\n",
              "       [0.59744444, 0.71655556]])"
            ]
          },
          "metadata": {},
          "execution_count": 11
        }
      ]
    },
    {
      "cell_type": "code",
      "source": [
        "eigen_values, eigen_vectors = np.linalg.eigh(cov_mat)\n",
        "eigen_values"
      ],
      "metadata": {
        "colab": {
          "base_uri": "https://localhost:8080/"
        },
        "id": "aPhv2SbZanY3",
        "outputId": "60d4ea5f-8f5a-4d52-8a57-45db67e8c09a"
      },
      "execution_count": 13,
      "outputs": [
        {
          "output_type": "execute_result",
          "data": {
            "text/plain": [
              "array([0.04947664, 1.25163447])"
            ]
          },
          "metadata": {},
          "execution_count": 13
        }
      ]
    },
    {
      "cell_type": "code",
      "source": [
        "sorted_index = np.argsort(eigen_values)[::-1]\n",
        "sorted_index"
      ],
      "metadata": {
        "colab": {
          "base_uri": "https://localhost:8080/"
        },
        "id": "TWfW8mUNbAMC",
        "outputId": "8d8256f9-79c0-4b95-9037-f8055dc8fc14"
      },
      "execution_count": 14,
      "outputs": [
        {
          "output_type": "execute_result",
          "data": {
            "text/plain": [
              "array([1, 0])"
            ]
          },
          "metadata": {},
          "execution_count": 14
        }
      ]
    },
    {
      "cell_type": "code",
      "source": [
        "sorted_eigenvectors = eigen_vectors[:, sorted_index]\n",
        "sorted_eigenvectors"
      ],
      "metadata": {
        "colab": {
          "base_uri": "https://localhost:8080/"
        },
        "id": "DYkRzVClbVF4",
        "outputId": "edf90aa5-a6b0-44e9-9a35-880307ebc98d"
      },
      "execution_count": 15,
      "outputs": [
        {
          "output_type": "execute_result",
          "data": {
            "text/plain": [
              "array([[ 0.6671572 , -0.74491696],\n",
              "       [ 0.74491696,  0.6671572 ]])"
            ]
          },
          "metadata": {},
          "execution_count": 15
        }
      ]
    },
    {
      "cell_type": "code",
      "source": [
        "11*eigen_values[1]/sum(eigen_values)"
      ],
      "metadata": {
        "colab": {
          "base_uri": "https://localhost:8080/"
        },
        "id": "pqIv9470bmf_",
        "outputId": "4100d9b2-23cb-4e32-f656-89526a70ab80"
      },
      "execution_count": 16,
      "outputs": [
        {
          "output_type": "execute_result",
          "data": {
            "text/plain": [
              "10.581709031701902"
            ]
          },
          "metadata": {},
          "execution_count": 16
        }
      ]
    },
    {
      "cell_type": "code",
      "source": [
        "n_components = 1\n",
        "eigenvector_subset = sorted_eigenvectors[:, 0:n_components]\n",
        "eigenvector_subset"
      ],
      "metadata": {
        "colab": {
          "base_uri": "https://localhost:8080/"
        },
        "id": "-zegqGVWb0St",
        "outputId": "94d645b2-d2d0-4438-eb35-c8662e1738f3"
      },
      "execution_count": 17,
      "outputs": [
        {
          "output_type": "execute_result",
          "data": {
            "text/plain": [
              "array([[0.6671572 ],\n",
              "       [0.74491696]])"
            ]
          },
          "metadata": {},
          "execution_count": 17
        }
      ]
    },
    {
      "cell_type": "code",
      "source": [
        "#Dimensionality Reduction\n",
        "transformed = np.matmul(X,eigenvector_subset)\n",
        "transformed"
      ],
      "metadata": {
        "colab": {
          "base_uri": "https://localhost:8080/"
        },
        "id": "38PXKWogcPKm",
        "outputId": "6777c8c9-8ea8-4868-e172-8d61b9025768"
      },
      "execution_count": 18,
      "outputs": [
        {
          "output_type": "execute_result",
          "data": {
            "text/plain": [
              "array([[3.45569369],\n",
              "       [0.85502047],\n",
              "       [3.62800501],\n",
              "       [2.90641598],\n",
              "       [4.30293818],\n",
              "       [3.54573734],\n",
              "       [2.52618153],\n",
              "       [1.61999729],\n",
              "       [2.19260293],\n",
              "       [1.40429818]])"
            ]
          },
          "metadata": {},
          "execution_count": 18
        }
      ]
    },
    {
      "cell_type": "code",
      "source": [
        "#Reconstruction of Original dataset for verification\n",
        "y=np.matmul(transformed,eigenvector_subset.transpose())\n",
        "y "
      ],
      "metadata": {
        "colab": {
          "base_uri": "https://localhost:8080/"
        },
        "id": "zehG9d-rckZ2",
        "outputId": "0bfa27d6-9074-4ac9-94af-bcb710f1ad25"
      },
      "execution_count": 19,
      "outputs": [
        {
          "output_type": "execute_result",
          "data": {
            "text/plain": [
              "array([[2.30549091, 2.57420484],\n",
              "       [0.57043306, 0.63691925],\n",
              "       [2.42044965, 2.70256246],\n",
              "       [1.93903633, 2.16503856],\n",
              "       [2.87073617, 3.20533163],\n",
              "       [2.36556418, 2.64127988],\n",
              "       [1.68536018, 1.88179546],\n",
              "       [1.08079285, 1.20676346],\n",
              "       [1.46281082, 1.63330711],\n",
              "       [0.93688763, 1.04608553]])"
            ]
          },
          "metadata": {},
          "execution_count": 19
        }
      ]
    }
  ]
}