{
  "nbformat": 4,
  "nbformat_minor": 0,
  "metadata": {
    "colab": {
      "provenance": [],
      "mount_file_id": "1LnRxiLOcFDmPXxhlEbPtDfU_U9MEurip",
      "authorship_tag": "ABX9TyNDBpdNW1JYh9+fJOEfDXbQ",
      "include_colab_link": true
    },
    "kernelspec": {
      "name": "python3",
      "display_name": "Python 3"
    },
    "language_info": {
      "name": "python"
    }
  },
  "cells": [
    {
      "cell_type": "markdown",
      "metadata": {
        "id": "view-in-github",
        "colab_type": "text"
      },
      "source": [
        "<a href=\"https://colab.research.google.com/github/RakhiK25/hello-world/blob/main/ml_final_4.ipynb\" target=\"_parent\"><img src=\"https://colab.research.google.com/assets/colab-badge.svg\" alt=\"Open In Colab\"/></a>"
      ]
    },
    {
      "cell_type": "code",
      "execution_count": 11,
      "metadata": {
        "id": "UUfykdKlkVrU"
      },
      "outputs": [],
      "source": [
        "#importing required libraries import numpy as np \n",
        "import pandas as pd \n",
        "import matplotlib.pyplot as plt \n",
        "import seaborn as sns \n",
        "from sklearn.cluster import KMeans \n",
        "#creating data frame \n",
        "exams_data = pd.read_csv('/content/drive/MyDrive/StudentsPerformance.csv') \n"
      ]
    },
    {
      "cell_type": "code",
      "source": [
        "#creating data frame \n",
        "exams_data = pd.read_csv('/content/drive/MyDrive/StudentsPerformance.csv') \n",
        "#for printing size of imported dataset \n",
        "exams_data.shape"
      ],
      "metadata": {
        "colab": {
          "base_uri": "https://localhost:8080/"
        },
        "id": "iPAzwUIRmeax",
        "outputId": "1897e8c9-22a0-466c-d6c5-cbf2b209c163"
      },
      "execution_count": 12,
      "outputs": [
        {
          "output_type": "execute_result",
          "data": {
            "text/plain": [
              "(1000, 8)"
            ]
          },
          "metadata": {},
          "execution_count": 12
        }
      ]
    },
    {
      "cell_type": "code",
      "source": [
        "exams_data.head()\n"
      ],
      "metadata": {
        "colab": {
          "base_uri": "https://localhost:8080/",
          "height": 206
        },
        "id": "yBAqEKLbm5EM",
        "outputId": "5717b205-66c8-4b45-c1aa-8233a1637276"
      },
      "execution_count": 13,
      "outputs": [
        {
          "output_type": "execute_result",
          "data": {
            "text/plain": [
              "   gender race/ethnicity parental level of education         lunch  \\\n",
              "0  female        group B           bachelor's degree      standard   \n",
              "1  female        group C                some college      standard   \n",
              "2  female        group B             master's degree      standard   \n",
              "3    male        group A          associate's degree  free/reduced   \n",
              "4    male        group C                some college      standard   \n",
              "\n",
              "  test preparation course  math score  reading score  writing score  \n",
              "0                    none          72             72             74  \n",
              "1               completed          69             90             88  \n",
              "2                    none          90             95             93  \n",
              "3                    none          47             57             44  \n",
              "4                    none          76             78             75  "
            ],
            "text/html": [
              "\n",
              "  <div id=\"df-cbebc80c-0bb2-4e92-8487-3557562d33d2\">\n",
              "    <div class=\"colab-df-container\">\n",
              "      <div>\n",
              "<style scoped>\n",
              "    .dataframe tbody tr th:only-of-type {\n",
              "        vertical-align: middle;\n",
              "    }\n",
              "\n",
              "    .dataframe tbody tr th {\n",
              "        vertical-align: top;\n",
              "    }\n",
              "\n",
              "    .dataframe thead th {\n",
              "        text-align: right;\n",
              "    }\n",
              "</style>\n",
              "<table border=\"1\" class=\"dataframe\">\n",
              "  <thead>\n",
              "    <tr style=\"text-align: right;\">\n",
              "      <th></th>\n",
              "      <th>gender</th>\n",
              "      <th>race/ethnicity</th>\n",
              "      <th>parental level of education</th>\n",
              "      <th>lunch</th>\n",
              "      <th>test preparation course</th>\n",
              "      <th>math score</th>\n",
              "      <th>reading score</th>\n",
              "      <th>writing score</th>\n",
              "    </tr>\n",
              "  </thead>\n",
              "  <tbody>\n",
              "    <tr>\n",
              "      <th>0</th>\n",
              "      <td>female</td>\n",
              "      <td>group B</td>\n",
              "      <td>bachelor's degree</td>\n",
              "      <td>standard</td>\n",
              "      <td>none</td>\n",
              "      <td>72</td>\n",
              "      <td>72</td>\n",
              "      <td>74</td>\n",
              "    </tr>\n",
              "    <tr>\n",
              "      <th>1</th>\n",
              "      <td>female</td>\n",
              "      <td>group C</td>\n",
              "      <td>some college</td>\n",
              "      <td>standard</td>\n",
              "      <td>completed</td>\n",
              "      <td>69</td>\n",
              "      <td>90</td>\n",
              "      <td>88</td>\n",
              "    </tr>\n",
              "    <tr>\n",
              "      <th>2</th>\n",
              "      <td>female</td>\n",
              "      <td>group B</td>\n",
              "      <td>master's degree</td>\n",
              "      <td>standard</td>\n",
              "      <td>none</td>\n",
              "      <td>90</td>\n",
              "      <td>95</td>\n",
              "      <td>93</td>\n",
              "    </tr>\n",
              "    <tr>\n",
              "      <th>3</th>\n",
              "      <td>male</td>\n",
              "      <td>group A</td>\n",
              "      <td>associate's degree</td>\n",
              "      <td>free/reduced</td>\n",
              "      <td>none</td>\n",
              "      <td>47</td>\n",
              "      <td>57</td>\n",
              "      <td>44</td>\n",
              "    </tr>\n",
              "    <tr>\n",
              "      <th>4</th>\n",
              "      <td>male</td>\n",
              "      <td>group C</td>\n",
              "      <td>some college</td>\n",
              "      <td>standard</td>\n",
              "      <td>none</td>\n",
              "      <td>76</td>\n",
              "      <td>78</td>\n",
              "      <td>75</td>\n",
              "    </tr>\n",
              "  </tbody>\n",
              "</table>\n",
              "</div>\n",
              "      <button class=\"colab-df-convert\" onclick=\"convertToInteractive('df-cbebc80c-0bb2-4e92-8487-3557562d33d2')\"\n",
              "              title=\"Convert this dataframe to an interactive table.\"\n",
              "              style=\"display:none;\">\n",
              "        \n",
              "  <svg xmlns=\"http://www.w3.org/2000/svg\" height=\"24px\"viewBox=\"0 0 24 24\"\n",
              "       width=\"24px\">\n",
              "    <path d=\"M0 0h24v24H0V0z\" fill=\"none\"/>\n",
              "    <path d=\"M18.56 5.44l.94 2.06.94-2.06 2.06-.94-2.06-.94-.94-2.06-.94 2.06-2.06.94zm-11 1L8.5 8.5l.94-2.06 2.06-.94-2.06-.94L8.5 2.5l-.94 2.06-2.06.94zm10 10l.94 2.06.94-2.06 2.06-.94-2.06-.94-.94-2.06-.94 2.06-2.06.94z\"/><path d=\"M17.41 7.96l-1.37-1.37c-.4-.4-.92-.59-1.43-.59-.52 0-1.04.2-1.43.59L10.3 9.45l-7.72 7.72c-.78.78-.78 2.05 0 2.83L4 21.41c.39.39.9.59 1.41.59.51 0 1.02-.2 1.41-.59l7.78-7.78 2.81-2.81c.8-.78.8-2.07 0-2.86zM5.41 20L4 18.59l7.72-7.72 1.47 1.35L5.41 20z\"/>\n",
              "  </svg>\n",
              "      </button>\n",
              "      \n",
              "  <style>\n",
              "    .colab-df-container {\n",
              "      display:flex;\n",
              "      flex-wrap:wrap;\n",
              "      gap: 12px;\n",
              "    }\n",
              "\n",
              "    .colab-df-convert {\n",
              "      background-color: #E8F0FE;\n",
              "      border: none;\n",
              "      border-radius: 50%;\n",
              "      cursor: pointer;\n",
              "      display: none;\n",
              "      fill: #1967D2;\n",
              "      height: 32px;\n",
              "      padding: 0 0 0 0;\n",
              "      width: 32px;\n",
              "    }\n",
              "\n",
              "    .colab-df-convert:hover {\n",
              "      background-color: #E2EBFA;\n",
              "      box-shadow: 0px 1px 2px rgba(60, 64, 67, 0.3), 0px 1px 3px 1px rgba(60, 64, 67, 0.15);\n",
              "      fill: #174EA6;\n",
              "    }\n",
              "\n",
              "    [theme=dark] .colab-df-convert {\n",
              "      background-color: #3B4455;\n",
              "      fill: #D2E3FC;\n",
              "    }\n",
              "\n",
              "    [theme=dark] .colab-df-convert:hover {\n",
              "      background-color: #434B5C;\n",
              "      box-shadow: 0px 1px 3px 1px rgba(0, 0, 0, 0.15);\n",
              "      filter: drop-shadow(0px 1px 2px rgba(0, 0, 0, 0.3));\n",
              "      fill: #FFFFFF;\n",
              "    }\n",
              "  </style>\n",
              "\n",
              "      <script>\n",
              "        const buttonEl =\n",
              "          document.querySelector('#df-cbebc80c-0bb2-4e92-8487-3557562d33d2 button.colab-df-convert');\n",
              "        buttonEl.style.display =\n",
              "          google.colab.kernel.accessAllowed ? 'block' : 'none';\n",
              "\n",
              "        async function convertToInteractive(key) {\n",
              "          const element = document.querySelector('#df-cbebc80c-0bb2-4e92-8487-3557562d33d2');\n",
              "          const dataTable =\n",
              "            await google.colab.kernel.invokeFunction('convertToInteractive',\n",
              "                                                     [key], {});\n",
              "          if (!dataTable) return;\n",
              "\n",
              "          const docLinkHtml = 'Like what you see? Visit the ' +\n",
              "            '<a target=\"_blank\" href=https://colab.research.google.com/notebooks/data_table.ipynb>data table notebook</a>'\n",
              "            + ' to learn more about interactive tables.';\n",
              "          element.innerHTML = '';\n",
              "          dataTable['output_type'] = 'display_data';\n",
              "          await google.colab.output.renderOutput(dataTable, element);\n",
              "          const docLink = document.createElement('div');\n",
              "          docLink.innerHTML = docLinkHtml;\n",
              "          element.appendChild(docLink);\n",
              "        }\n",
              "      </script>\n",
              "    </div>\n",
              "  </div>\n",
              "  "
            ]
          },
          "metadata": {},
          "execution_count": 13
        }
      ]
    },
    {
      "cell_type": "code",
      "source": [
        "#printing information of dataset \n",
        "exams_data.info() "
      ],
      "metadata": {
        "colab": {
          "base_uri": "https://localhost:8080/"
        },
        "id": "TEMaOXsknT-y",
        "outputId": "bf9fcaff-bf1f-4633-c452-749ccdba4bd6"
      },
      "execution_count": 14,
      "outputs": [
        {
          "output_type": "stream",
          "name": "stdout",
          "text": [
            "<class 'pandas.core.frame.DataFrame'>\n",
            "RangeIndex: 1000 entries, 0 to 999\n",
            "Data columns (total 8 columns):\n",
            " #   Column                       Non-Null Count  Dtype \n",
            "---  ------                       --------------  ----- \n",
            " 0   gender                       1000 non-null   object\n",
            " 1   race/ethnicity               1000 non-null   object\n",
            " 2   parental level of education  1000 non-null   object\n",
            " 3   lunch                        1000 non-null   object\n",
            " 4   test preparation course      1000 non-null   object\n",
            " 5   math score                   1000 non-null   int64 \n",
            " 6   reading score                1000 non-null   int64 \n",
            " 7   writing score                1000 non-null   int64 \n",
            "dtypes: int64(3), object(5)\n",
            "memory usage: 62.6+ KB\n"
          ]
        }
      ]
    },
    {
      "cell_type": "code",
      "source": [
        "#checking whether the dataset contains null value or not \n",
        "exams_data.isnull().sum() \n"
      ],
      "metadata": {
        "colab": {
          "base_uri": "https://localhost:8080/"
        },
        "id": "9P6s1AfUnfa1",
        "outputId": "a072c4d9-731a-49ea-8e2e-bffe5d016907"
      },
      "execution_count": 15,
      "outputs": [
        {
          "output_type": "execute_result",
          "data": {
            "text/plain": [
              "gender                         0\n",
              "race/ethnicity                 0\n",
              "parental level of education    0\n",
              "lunch                          0\n",
              "test preparation course        0\n",
              "math score                     0\n",
              "reading score                  0\n",
              "writing score                  0\n",
              "dtype: int64"
            ]
          },
          "metadata": {},
          "execution_count": 15
        }
      ]
    },
    {
      "cell_type": "code",
      "source": [
        "#choosing reading and writing scores columns from dataset \n",
        "X = exams_data.iloc[:, [6,7]].values \n",
        "print(X) \n"
      ],
      "metadata": {
        "colab": {
          "base_uri": "https://localhost:8080/"
        },
        "id": "x1bh3oRenrVl",
        "outputId": "a5cbab7d-ff9b-4726-cb08-8f0c4191ef9d"
      },
      "execution_count": 16,
      "outputs": [
        {
          "output_type": "stream",
          "name": "stdout",
          "text": [
            "[[72 74]\n",
            " [90 88]\n",
            " [95 93]\n",
            " ...\n",
            " [71 65]\n",
            " [78 77]\n",
            " [86 86]]\n"
          ]
        }
      ]
    },
    {
      "cell_type": "code",
      "source": [
        "#Training the KMeans cluster model \n",
        "kmeans = KMeans (n_clusters=5, init='k-means++', random_state = 0)\n",
        "#Return a lable for each datapoint based on their cluster \n",
        "Y = kmeans.fit_predict(X) \n",
        "print (Y) \n",
        "\n"
      ],
      "metadata": {
        "colab": {
          "base_uri": "https://localhost:8080/"
        },
        "id": "ccx-5PMTo-tl",
        "outputId": "c5af985a-19dd-41d6-aedd-54449233c677"
      },
      "execution_count": 17,
      "outputs": [
        {
          "output_type": "stream",
          "name": "stdout",
          "text": [
            "[3 1 1 4 3 3 1 2 0 4 4 4 3 0 4 3 1 2 2 4 0 3 4 3 3 3 4 3 0 3 3 0 0 2 1 3 3\n",
            " 0 1 4 4 0 0 0 4 4 0 3 3 3 4 0 2 3 1 2 1 4 4 2 3 2 4 3 4 0 2 3 4 0 0 4 4 4\n",
            " 2 2 2 3 3 0 4 2 4 0 2 3 1 3 0 1 3 2 3 4 1 3 0 0 0 0 0 3 1 2 1 0 1 0 3 0 1\n",
            " 4 4 4 1 3 3 3 0 0 1 1 1 4 3 1 0 3 3 4 3 2 3 3 3 4 4 4 0 0 0 0 4 2 3 2 3 0\n",
            " 3 1 0 0 0 4 0 1 3 4 1 0 3 1 4 4 1 1 4 3 3 3 3 3 3 0 4 1 4 3 0 1 0 0 4 0 4\n",
            " 0 0 0 4 1 0 3 0 0 1 4 0 4 4 3 1 3 3 0 2 3 0 3 3 0 3 2 0 4 1 3 1 2 3 4 0 3\n",
            " 0 3 0 4 0 4 0 1 0 2 1 3 3 3 0 0 4 3 0 3 4 4 0 3 3 0 0 4 4 3 0 3 4 0 0 3 3\n",
            " 3 3 3 4 1 0 2 3 3 1 3 0 2 4 0 3 3 1 0 3 4 4 4 3 3 2 3 1 1 3 3 0 0 4 3 3 0\n",
            " 2 0 4 3 3 4 3 0 3 0 1 4 0 4 3 4 0 0 0 0 1 3 0 0 3 3 3 4 2 1 0 2 3 4 0 2 4\n",
            " 3 1 0 0 4 2 4 4 0 3 0 0 3 4 1 0 3 0 4 3 4 0 0 0 0 0 1 0 3 4 2 4 4 4 0 0 1\n",
            " 3 0 3 1 0 2 1 1 3 0 1 1 3 4 2 3 0 3 0 3 0 3 0 4 3 2 0 1 4 4 0 2 4 1 0 0 0\n",
            " 3 4 1 3 3 0 0 3 0 0 0 0 4 1 0 0 3 2 0 1 0 4 4 0 0 4 4 0 4 0 0 4 1 3 3 0 3\n",
            " 3 3 0 3 2 3 1 1 3 4 0 4 1 4 1 0 4 4 3 1 4 1 2 0 1 3 1 0 1 0 1 3 0 0 0 0 0\n",
            " 4 0 4 4 3 4 3 4 3 3 0 1 1 0 0 4 3 0 0 3 1 4 1 4 3 0 4 3 1 3 4 4 0 1 1 1 3\n",
            " 3 3 4 1 4 4 4 4 0 4 2 3 0 4 4 1 0 3 4 0 0 1 0 3 3 1 0 3 1 0 0 0 0 1 4 0 2\n",
            " 2 3 0 0 0 3 3 1 3 4 2 1 3 4 0 3 1 4 0 3 4 4 1 4 0 1 3 3 3 3 3 3 0 0 0 4 4\n",
            " 0 3 1 3 2 4 3 3 0 2 3 4 1 0 3 4 0 0 0 0 1 3 1 0 2 3 3 0 4 4 4 1 4 1 0 4 4\n",
            " 4 0 0 3 1 3 0 3 1 3 3 4 1 3 3 0 3 0 0 4 3 4 3 1 3 3 0 0 0 4 1 3 0 0 0 0 4\n",
            " 3 1 0 3 3 4 3 1 3 0 3 3 3 0 3 0 4 2 0 1 0 3 4 1 4 3 3 3 4 1 1 0 3 0 3 0 1\n",
            " 0 0 0 2 4 3 4 1 1 1 3 3 1 3 1 3 3 0 4 1 2 2 3 3 4 1 2 3 2 1 2 4 4 3 0 3 4\n",
            " 3 4 3 3 4 3 3 0 4 1 0 0 3 1 4 1 4 0 0 3 0 4 3 0 0 3 3 0 3 4 4 3 0 3 0 4 0\n",
            " 2 3 3 4 1 3 0 3 4 3 2 0 0 0 0 0 3 4 0 0 3 4 4 0 3 1 1 3 3 3 2 3 4 2 4 0 3\n",
            " 3 1 0 3 0 1 1 1 4 1 4 0 0 3 3 4 4 1 4 1 4 0 0 3 4 3 4 4 2 3 0 1 1 4 0 3 0\n",
            " 0 1 0 4 1 0 3 4 3 4 1 2 3 1 1 4 2 3 4 4 3 3 1 0 0 3 4 3 3 0 0 3 2 4 3 1 0\n",
            " 0 4 1 1 0 3 0 2 2 3 4 3 1 3 2 1 1 3 4 1 3 0 2 3 0 0 4 0 1 4 3 1 0 4 0 0 0\n",
            " 0 4 0 2 4 3 4 3 3 1 0 4 4 3 0 0 1 0 0 0 4 3 4 4 3 3 3 3 4 0 4 1 1 0 3 0 4\n",
            " 1 3 4 0 0 0 0 3 1 0 4 0 0 3 0 0 2 1 2 3 1 1 3 4 4 3 2 1 3 3 3 3 0 1 4 0 3\n",
            " 1]\n"
          ]
        }
      ]
    },
    {
      "cell_type": "code",
      "source": [
        "#plotting graphs for all clusters. \n",
        "plt.figure(figsize=(8,8)) \n",
        "plt.scatter(X[Y==0,0], X[Y==0,1], s=50, c='green', label='Cluster 1') \n",
        "plt.scatter(X[Y==1,0], X[Y==1,1], s=50, c='red', label='Cluster 2') \n",
        "plt.scatter(X[Y==2,0], X[Y==2,1], s=50, c='yellow', label='Cluster 3') \n",
        "plt.scatter(X[Y==3,0], X[Y==3,1], s=50, c='blue', label='Cluster 4') \n",
        "plt.scatter(X[Y==4,0], X[Y==4,1], s=50, c='violet', label='Cluster 5') "
      ],
      "metadata": {
        "colab": {
          "base_uri": "https://localhost:8080/",
          "height": 500
        },
        "id": "w0y2dZVKpXKK",
        "outputId": "8a5eafad-f1e2-4203-908e-6db536af1b7a"
      },
      "execution_count": 18,
      "outputs": [
        {
          "output_type": "execute_result",
          "data": {
            "text/plain": [
              "<matplotlib.collections.PathCollection at 0x7f0565a49d50>"
            ]
          },
          "metadata": {},
          "execution_count": 18
        },
        {
          "output_type": "display_data",
          "data": {
            "text/plain": [
              "<Figure size 576x576 with 1 Axes>"
            ],
            "image/png": "[encoded data removed]"
          },
          "metadata": {
            "needs_background": "light"
          }
        }
      ]
    },
    {
      "cell_type": "code",
      "source": [
        "#plotting centroids\n",
        "import matplotlib.pyplot as plt\n",
        "plt.scatter(kmeans.cluster_centers_[:, 0], kmeans.cluster_centers_[:, 1], s=100, c='cyan', label = 'centroids')\n",
        "plt.title('Students Groups')\n",
        "plt.xlabel('reading score')\n",
        "plt.ylabel('writing scores')\n",
        "plt.show()"
      ],
      "metadata": {
        "colab": {
          "base_uri": "https://localhost:8080/",
          "height": 295
        },
        "id": "1RXky7ijvPn6",
        "outputId": "328da824-2201-4067-9ece-afce095fd1ee"
      },
      "execution_count": 19,
      "outputs": [
        {
          "output_type": "display_data",
          "data": {
            "text/plain": [
              "<Figure size 432x288 with 1 Axes>"
            ],
            "image/png": "[encoded data removed]"
          },
          "metadata": {
            "needs_background": "light"
          }
        }
      ]
    },
    {
      "cell_type": "code",
      "source": [
        "#plotting clusters alond]geith centroids\n",
        "plt.figure(figsize=(8,8)) \n",
        "plt.scatter(X[Y==0,0], X[Y==0,1], s=50, c='green', label='Cluster 1') \n",
        "plt.scatter(X[Y==1,0], X[Y==1,1], s=50, c='red', label='Cluster 2') \n",
        "plt.scatter(X[Y==2,0], X[Y==2,1], s=50, c='yellow', label='Cluster 3') \n",
        "plt.scatter(X[Y==3,0], X[Y==3,1], s=50, c='blue', label='Cluster 4') \n",
        "plt.scatter(X[Y==4,0], X[Y==4,1], s=50, c='violet', label='Cluster 5') \n",
        "\n",
        "import matplotlib.pyplot as plt\n",
        "plt.scatter(kmeans.cluster_centers_[:, 0], kmeans.cluster_centers_[:, 1], s=100, c='cyan', label = 'centroids')\n",
        "plt.title('Students Groups')\n",
        "plt.xlabel('reading score')\n",
        "plt.ylabel('writing scores')\n",
        "plt.show()"
      ],
      "metadata": {
        "colab": {
          "base_uri": "https://localhost:8080/",
          "height": 513
        },
        "id": "ChzYVB6PzTLo",
        "outputId": "27965537-6a14-4d59-ab64-f1d14a77c3b9"
      },
      "execution_count": 20,
      "outputs": [
        {
          "output_type": "display_data",
          "data": {
            "text/plain": [
              "<Figure size 576x576 with 1 Axes>"
            ],
            "image/png": "[encoded data removed]"
          },
          "metadata": {
            "needs_background": "light"
          }
        }
      ]
    }
  ]
}